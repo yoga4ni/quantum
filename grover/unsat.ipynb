{
 "cells": [
  {
   "cell_type": "code",
   "execution_count": 5,
   "metadata": {},
   "outputs": [
    {
     "data": {
      "text/html": [
       "<pre style=\"word-wrap: normal;white-space: pre;background: #fff0;line-height: 1.1;font-family: &quot;Courier New&quot;,Courier,monospace\">        ┌───┐┌──────────┐┌───┐┌───┐          ┌───┐┌───┐      ░ ┌─┐      \n",
       "q_0: |0>┤ H ├┤0         ├┤ H ├┤ X ├───────■──┤ X ├┤ H ├──────░─┤M├──────\n",
       "        ├───┤│          │├───┤├───┤       │  ├───┤├───┤      ░ └╥┘┌─┐   \n",
       "q_1: |0>┤ H ├┤1 unitary ├┤ H ├┤ X ├───────■──┤ X ├┤ H ├──────░──╫─┤M├───\n",
       "        ├───┤│          │├───┤├───┤┌───┐┌─┴─┐├───┤├───┤┌───┐ ░  ║ └╥┘┌─┐\n",
       "q_2: |0>┤ H ├┤2         ├┤ H ├┤ X ├┤ H ├┤ X ├┤ H ├┤ X ├┤ H ├─░──╫──╫─┤M├\n",
       "        └───┘└──────────┘└───┘└───┘└───┘└───┘└───┘└───┘└───┘ ░  ║  ║ └╥┘\n",
       " c_0: 0 ════════════════════════════════════════════════════════╩══╬══╬═\n",
       "                                                                   ║  ║ \n",
       " c_1: 0 ═══════════════════════════════════════════════════════════╩══╬═\n",
       "                                                                      ║ \n",
       " c_2: 0 ══════════════════════════════════════════════════════════════╩═\n",
       "                                                                        </pre>"
      ],
      "text/plain": [
       "<qiskit.visualization.text.TextDrawing at 0x1f45347fb70>"
      ]
     },
     "execution_count": 5,
     "metadata": {},
     "output_type": "execute_result"
    }
   ],
   "source": [
    "from qiskit import *\n",
    "from qiskit.quantum_info.operators import *\n",
    "import numpy as np\n",
    "%matplotlib inline\n",
    "\n",
    "cir = QuantumCircuit(3, 3)\n",
    "oracle = Operator([[1, 0, 0, 0, 0, 0, 0, 0], \n",
    "                   [0, 1, 0, 0, 0, 0, 0, 0],\n",
    "                   [0, 0, 1, 0, 0, 0, 0, 0], \n",
    "                   [0, 0, 0, 1, 0, 0, 0, 0],\n",
    "                   [0, 0, 0, 0, 1, 0, 0, 0], \n",
    "                   [0, 0, 0, 0, 0, 1, 0, 0],\n",
    "                   [0, 0, 0, 0, 0, 0, 1, 0], \n",
    "                   [0, 0, 0, 0, 0, 0, 0, 1]])\n",
    "\n",
    "cir.h(0)\n",
    "cir.h(1)\n",
    "cir.h(2)\n",
    "\n",
    "# 1st iteration\n",
    "cir.append(oracle, [0, 1, 2])\n",
    "cir.h(0)\n",
    "cir.h(1)\n",
    "cir.h(2)\n",
    "cir.x(0)\n",
    "cir.x(1)\n",
    "cir.x(2)\n",
    "cir.h(2)\n",
    "cir.ccx(0, 1, 2)\n",
    "cir.h(2)\n",
    "cir.x(0)\n",
    "cir.x(1)\n",
    "cir.x(2)\n",
    "cir.h(0)\n",
    "cir.h(1)\n",
    "cir.h(2)\n",
    "\n",
    "cir.barrier([0, 1, 2])\n",
    "cir.measure([0, 1, 2], [0, 1, 2])\n",
    "cir.draw()"
   ]
  },
  {
   "cell_type": "code",
   "execution_count": 6,
   "metadata": {},
   "outputs": [
    {
     "name": "stdout",
     "output_type": "stream",
     "text": [
      "{'100': 2032, '111': 2090, '010': 2082, '001': 2068, '110': 2003, '011': 2062, '101': 1972, '000': 2075}\n"
     ]
    },
    {
     "data": {
      "image/png": "[encoded data removed]",
      "text/plain": [
       "<Figure size 504x360 with 1 Axes>"
      ]
     },
     "execution_count": 6,
     "metadata": {},
     "output_type": "execute_result"
    }
   ],
   "source": [
    "backend = Aer.get_backend('qasm_simulator')\n",
    "job = execute(cir, backend, shots = 16384)\n",
    "result = job.result()\n",
    "\n",
    "counts = result.get_counts(cir)\n",
    "print(counts)\n",
    "visualization.plot_histogram(counts)"
   ]
  }
 ],
 "metadata": {
  "kernelspec": {
   "display_name": "Python 3",
   "language": "python",
   "name": "python3"
  },
  "language_info": {
   "codemirror_mode": {
    "name": "ipython",
    "version": 3
   },
   "file_extension": ".py",
   "mimetype": "text/x-python",
   "name": "python",
   "nbconvert_exporter": "python",
   "pygments_lexer": "ipython3",
   "version": "3.6.9"
  }
 },
 "nbformat": 4,
 "nbformat_minor": 2
}
