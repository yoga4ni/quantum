{
 "cells": [
  {
   "cell_type": "code",
   "execution_count": 7,
   "metadata": {},
   "outputs": [
    {
     "data": {
      "text/html": [
       "<pre style=\"word-wrap: normal;white-space: pre;background: #fff0;line-height: 1.1;font-family: &quot;Courier New&quot;,Courier,monospace\">                                 ┌───┐┌───┐┌───┐                              »\n",
       "q_0: |0>─────────────────────────┤ X ├┤ Z ├┤ X ├──────────────────────────────»\n",
       "        ┌───┐┌───┐     ┌───┐     └─┬─┘└───┘└─┬─┘     ┌───┐     ┌───┐     ┌───┐»\n",
       "q_1: |0>┤ X ├┤ H ├──■──┤ X ├──■────┼─────────┼────■──┤ X ├──■──┤ H ├──■──┤ H ├»\n",
       "        ├───┤├───┤  │  ├───┤  │    │         │    │  └───┘  │  └───┘  │  ├───┤»\n",
       "q_2: |0>┤ X ├┤ H ├──┼──┤ H ├──┼────┼─────────┼────┼─────────┼─────────■──┤ H ├»\n",
       "        ├───┤├───┤  │  └───┘  │    │         │    │         │       ┌─┴─┐└───┘»\n",
       "q_3: |0>┤ X ├┤ H ├──┼─────────┼────┼─────────┼────┼─────────┼───────┤ X ├─────»\n",
       "        └───┘└───┘┌─┴─┐       │    │         │    │       ┌─┴─┐     └───┘     »\n",
       "q_4: |0>──────────┤ X ├───────┼────■─────────■────┼───────┤ X ├───────────────»\n",
       "                  └───┘     ┌─┴─┐  │         │  ┌─┴─┐     └───┘               »\n",
       "q_5: |0>────────────────────┤ X ├──■─────────■──┤ X ├─────────────────────────»\n",
       "                            └───┘               └───┘                         »\n",
       " c_0: 0 ══════════════════════════════════════════════════════════════════════»\n",
       "                                                                              »\n",
       " c_1: 0 ══════════════════════════════════════════════════════════════════════»\n",
       "                                                                              »\n",
       " c_2: 0 ══════════════════════════════════════════════════════════════════════»\n",
       "                                                                              »\n",
       "«                 \n",
       "«q_0: ────────────\n",
       "«      ░ ┌─┐      \n",
       "«q_1: ─░─┤M├──────\n",
       "«      ░ └╥┘┌─┐   \n",
       "«q_2: ─░──╫─┤M├───\n",
       "«      ░  ║ └╥┘┌─┐\n",
       "«q_3: ─░──╫──╫─┤M├\n",
       "«      ░  ║  ║ └╥┘\n",
       "«q_4: ────╫──╫──╫─\n",
       "«         ║  ║  ║ \n",
       "«q_5: ────╫──╫──╫─\n",
       "«         ║  ║  ║ \n",
       "«c_0: ════╩══╬══╬═\n",
       "«            ║  ║ \n",
       "«c_1: ═══════╩══╬═\n",
       "«               ║ \n",
       "«c_2: ══════════╩═\n",
       "«                 </pre>"
      ],
      "text/plain": [
       "<qiskit.visualization.text.TextDrawing at 0x157f76e4cc0>"
      ]
     },
     "execution_count": 7,
     "metadata": {},
     "output_type": "execute_result"
    }
   ],
   "source": [
    "# on-set = {}, n_iteration = 1\n",
    "# f = (x1)(x1')\n",
    "from qiskit import *\n",
    "import numpy as np\n",
    "%matplotlib inline\n",
    "\n",
    "def initialize(cir):\n",
    "    cir.x(1)\n",
    "    cir.x(2)\n",
    "    cir.x(3)\n",
    "    cir.h(1)\n",
    "    cir.h(2)\n",
    "    cir.h(3)\n",
    "\n",
    "def oracle(cir):\n",
    "    # computation\n",
    "    cir.cx(1, 4) # clause C1 = (x1)\n",
    "    cir.x(1)\n",
    "    cir.cx(1, 5) # clause C2 = (x1')\n",
    "    cir.ccx(4, 5, 0)\n",
    "    cir.z(0)\n",
    "    # uncomputation\n",
    "    cir.ccx(4, 5, 0)\n",
    "    cir.cx(1, 5)\n",
    "    cir.x(1)\n",
    "    cir.cx(1, 4)\n",
    "\n",
    "def diffusion(cir):\n",
    "    cir.h(1)\n",
    "    cir.h(2)\n",
    "    cir.ccx(1, 2, 3)\n",
    "    cir.h(1)\n",
    "    cir.h(2)\n",
    "\n",
    "n_iterations = 1\n",
    "cir = QuantumCircuit(6, 3) # 0: result qubit, 1~3: vars, 4~5: clauses\n",
    "initialize(cir)\n",
    "for i in range(n_iterations):\n",
    "    oracle(cir)\n",
    "    diffusion(cir)\n",
    "\n",
    "cir.barrier(range(1, 4))\n",
    "cir.measure(range(1, 4), range(0, 3))\n",
    "cir.draw()"
   ]
  },
  {
   "cell_type": "code",
   "execution_count": 8,
   "metadata": {},
   "outputs": [
    {
     "name": "stdout",
     "output_type": "stream",
     "text": [
      "{'011': 114, '101': 133, '000': 120, '010': 126, '111': 119, '001': 132, '100': 139, '110': 141}\n"
     ]
    },
    {
     "data": {
      "image/png": "[encoded data removed]",
      "text/plain": [
       "<Figure size 504x360 with 1 Axes>"
      ]
     },
     "execution_count": 8,
     "metadata": {},
     "output_type": "execute_result"
    }
   ],
   "source": [
    "simulator = Aer.get_backend('qasm_simulator')\n",
    "job = execute(cir, simulator, shots = 1024)\n",
    "result = job.result()\n",
    "\n",
    "counts = result.get_counts(cir)\n",
    "print(counts)\n",
    "visualization.plot_histogram(counts)"
   ]
  }
 ],
 "metadata": {
  "kernelspec": {
   "display_name": "Python 3",
   "language": "python",
   "name": "python3"
  },
  "language_info": {
   "codemirror_mode": {
    "name": "ipython",
    "version": 3
   },
   "file_extension": ".py",
   "mimetype": "text/x-python",
   "name": "python",
   "nbconvert_exporter": "python",
   "pygments_lexer": "ipython3",
   "version": "3.6.9"
  }
 },
 "nbformat": 4,
 "nbformat_minor": 2
}
