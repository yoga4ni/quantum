{
 "cells": [
  {
   "cell_type": "code",
   "execution_count": 1,
   "metadata": {},
   "outputs": [
    {
     "data": {
      "text/html": [
       "<pre style=\"word-wrap: normal;white-space: pre;background: #fff0;line-height: 1.1;font-family: &quot;Courier New&quot;,Courier,monospace\">                                                ┌───┐┌───┐     ┌───┐          »\n",
       "q_0: |0>────────────────────────────────────────┤ X ├┤ Z ├─────┤ X ├──────────»\n",
       "        ┌───┐┌───┐          ┌───┐               └─┬─┘└───┘     └─┬─┘          »\n",
       "q_1: |0>┤ X ├┤ H ├───────■──┤ X ├──■──────────────┼──────────────┼────────────»\n",
       "        ├───┤├───┤       │  ├───┤  │              │              │            »\n",
       "q_2: |0>┤ X ├┤ H ├───────■──┤ X ├──■──────────────┼──────────────┼────────────»\n",
       "        ├───┤├───┤┌───┐  │  └───┘  │              │              │            »\n",
       "q_3: |0>┤ X ├┤ H ├┤ X ├──┼────■────┼──────────────┼──────────────┼────────────»\n",
       "        └───┘└───┘└───┘  │  ┌─┴─┐  │  ┌───┐       │              │       ┌───┐»\n",
       "q_4: |0>─────────────────┼──┤ X ├──┼──┤ X ├──■────┼────■────■────┼────■──┤ X ├»\n",
       "                       ┌─┴─┐├───┤  │  └───┘  │    │    │    │    │    │  ├───┤»\n",
       "q_5: |0>───────────────┤ X ├┤ X ├──┼─────────■────┼────■────■────┼────■──┤ X ├»\n",
       "                       └───┘└───┘┌─┴─┐┌───┐  │    │    │    │    │    │  ├───┤»\n",
       "q_6: |0>─────────────────────────┤ X ├┤ X ├──┼────■────┼────┼────■────┼──┤ X ├»\n",
       "                                 └───┘└───┘┌─┴─┐  │  ┌─┴─┐┌─┴─┐  │  ┌─┴─┐└───┘»\n",
       "q_7: |0>───────────────────────────────────┤ X ├──■──┤ X ├┤ X ├──■──┤ X ├─────»\n",
       "                                           └───┘     └───┘└───┘     └───┘     »\n",
       " c_0: 0 ══════════════════════════════════════════════════════════════════════»\n",
       "                                                                              »\n",
       " c_1: 0 ══════════════════════════════════════════════════════════════════════»\n",
       "                                                                              »\n",
       " c_2: 0 ══════════════════════════════════════════════════════════════════════»\n",
       "                                                                              »\n",
       "«                                               \n",
       "«q_0: ──────────────────────────────────────────\n",
       "«          ┌───┐     ┌───┐     ┌───┐ ░ ┌─┐      \n",
       "«q_1: ──■──┤ X ├──■──┤ H ├──■──┤ H ├─░─┤M├──────\n",
       "«       │  ├───┤  │  ├───┤  │  ├───┤ ░ └╥┘┌─┐   \n",
       "«q_2: ──■──┤ X ├──■──┤ H ├──■──┤ H ├─░──╫─┤M├───\n",
       "«       │  └───┘  │  ├───┤┌─┴─┐└───┘ ░  ║ └╥┘┌─┐\n",
       "«q_3: ──┼────■────┼──┤ X ├┤ X ├──────░──╫──╫─┤M├\n",
       "«       │  ┌─┴─┐  │  └───┘└───┘      ░  ║  ║ └╥┘\n",
       "«q_4: ──┼──┤ X ├──┼─────────────────────╫──╫──╫─\n",
       "«       │  └───┘┌─┴─┐                   ║  ║  ║ \n",
       "«q_5: ──┼───────┤ X ├───────────────────╫──╫──╫─\n",
       "«     ┌─┴─┐     └───┘                   ║  ║  ║ \n",
       "«q_6: ┤ X ├─────────────────────────────╫──╫──╫─\n",
       "«     └───┘                             ║  ║  ║ \n",
       "«q_7: ──────────────────────────────────╫──╫──╫─\n",
       "«                                       ║  ║  ║ \n",
       "«c_0: ══════════════════════════════════╩══╬══╬═\n",
       "«                                          ║  ║ \n",
       "«c_1: ═════════════════════════════════════╩══╬═\n",
       "«                                             ║ \n",
       "«c_2: ════════════════════════════════════════╩═\n",
       "«                                               </pre>"
      ],
      "text/plain": [
       "<qiskit.visualization.text.TextDrawing at 0x2e193cba1d0>"
      ]
     },
     "execution_count": 1,
     "metadata": {},
     "output_type": "execute_result"
    }
   ],
   "source": [
    "# on-set = { 011, 101 }, n_iteration = 1\n",
    "# f = (x3')'(x1x2)'(x1'x2')' = (x3)(x1'+x2')(x1+x2)\n",
    "from qiskit import *\n",
    "from qiskit.quantum_info.operators import *\n",
    "import numpy as np\n",
    "%matplotlib inline\n",
    "\n",
    "# num of anci_bits >= num of control_bits - 2\n",
    "def MCT(qc, control_bits, target_bit, anci_bits):\n",
    "    anci_idx = 0\n",
    "    qc.ccx(control_bits[0], control_bits[1], anci_bits[anci_idx])\n",
    "    for idx in range(2, len(control_bits) - 1):\n",
    "        qc.ccx(control_bits[idx], anci_bits[anci_idx], anci_bits[anci_idx + 1])\n",
    "        anci_idx += 1\n",
    "    qc.ccx(control_bits[len(control_bits) - 1], anci_bits[anci_idx], target_bit)\n",
    "    for idx in reversed(range(2, len(control_bits) - 1)):\n",
    "        qc.ccx(control_bits[idx], anci_bits[anci_idx - 1], anci_bits[anci_idx])\n",
    "        anci_idx -= 1\n",
    "    qc.ccx(control_bits[0], control_bits[1], anci_bits[anci_idx])\n",
    "\n",
    "def initialize(cir):\n",
    "    cir.x(1)\n",
    "    cir.x(2)\n",
    "    cir.x(3)\n",
    "    cir.h(1)\n",
    "    cir.h(2)\n",
    "    cir.h(3)\n",
    "\n",
    "def oracle(cir):\n",
    "    # computation\n",
    "    cir.x(3)\n",
    "    cir.cx(3, 4) # clause C1'= (x3')\n",
    "    cir.ccx(1, 2, 5) # clause C2'= (x1x2)\n",
    "    cir.x(1)\n",
    "    cir.x(2)\n",
    "    cir.ccx(1, 2, 6) # clause C3'= (x1'x2')\n",
    "    cir.x(4) # C1\n",
    "    cir.x(5) # C2\n",
    "    cir.x(6) # C3\n",
    "    MCT(cir, range(4, 7), 0, range(7, 8)) # f = C1^C2^C3\n",
    "    cir.z(0)\n",
    "    # uncomputation\n",
    "    MCT(cir, range(4, 7), 0, range(7, 8))\n",
    "    cir.x(4)\n",
    "    cir.x(5)\n",
    "    cir.x(6)\n",
    "    cir.ccx(1, 2, 6)\n",
    "    cir.x(1)\n",
    "    cir.x(2)\n",
    "    cir.ccx(1, 2, 5)\n",
    "    cir.cx(3, 4)\n",
    "    cir.x(3)\n",
    "\n",
    "def diffusion(cir):\n",
    "    cir.h(1)\n",
    "    cir.h(2)\n",
    "    cir.ccx(1, 2, 3)\n",
    "    cir.h(1)\n",
    "    cir.h(2)\n",
    "\n",
    "n_iterations = 1\n",
    "cir = QuantumCircuit(8, 3) # 0: result qubit, 1~3: vars, 4~6: clauses, 7: mct ancillary\n",
    "initialize(cir)\n",
    "for i in range(n_iterations):\n",
    "    oracle(cir)\n",
    "    diffusion(cir)\n",
    "\n",
    "cir.barrier(range(1, 4))\n",
    "cir.measure(range(1, 4), range(0, 3))\n",
    "cir.draw()"
   ]
  },
  {
   "cell_type": "code",
   "execution_count": 2,
   "metadata": {},
   "outputs": [
    {
     "name": "stdout",
     "output_type": "stream",
     "text": [
      "{'110': 512, '101': 512}\n"
     ]
    },
    {
     "data": {
      "image/png": "[encoded data removed]",
      "text/plain": [
       "<Figure size 504x360 with 1 Axes>"
      ]
     },
     "execution_count": 2,
     "metadata": {},
     "output_type": "execute_result"
    }
   ],
   "source": [
    "simulator = Aer.get_backend('qasm_simulator')\n",
    "job = execute(cir, simulator, shots = 1024)\n",
    "result = job.result()\n",
    "\n",
    "counts = result.get_counts(cir)\n",
    "print(counts)\n",
    "visualization.plot_histogram(counts)"
   ]
  }
 ],
 "metadata": {
  "kernelspec": {
   "display_name": "Python 3",
   "language": "python",
   "name": "python3"
  },
  "language_info": {
   "codemirror_mode": {
    "name": "ipython",
    "version": 3
   },
   "file_extension": ".py",
   "mimetype": "text/x-python",
   "name": "python",
   "nbconvert_exporter": "python",
   "pygments_lexer": "ipython3",
   "version": "3.6.9"
  }
 },
 "nbformat": 4,
 "nbformat_minor": 2
}
