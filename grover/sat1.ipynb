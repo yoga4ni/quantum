{
 "cells": [
  {
   "cell_type": "code",
   "execution_count": 37,
   "metadata": {},
   "outputs": [
    {
     "data": {
      "text/html": [
       "<pre style=\"word-wrap: normal;white-space: pre;background: #fff0;line-height: 1.1;font-family: &quot;Courier New&quot;,Courier,monospace\">             ┌───┐       ┌───┐                                            »\n",
       "q19_0: |0>───┤ H ├───────┤ X ├────────────────────────■───────────────────»\n",
       "             ├───┤       └───┘                        │                   »\n",
       "q19_1: |0>───┤ H ├──────────────────■─────────────────┼────────────────■──»\n",
       "             ├───┤                  │                 │                │  »\n",
       "q19_2: |0>───┤ H ├──────────────────┼─────────────────┼────────────────┼──»\n",
       "             ├───┤       ┌───┐      │                 │                │  »\n",
       "q19_3: |0>───┤ X ├───────┤ H ├──────┼─────────────────┼────────────────┼──»\n",
       "          ┌──┴───┴───┐┌──┴───┴───┐┌─┴─┐┌───────────┐┌─┴─┐┌──────────┐┌─┴─┐»\n",
       "q19_4: |0>┤ U2(0,pi) ├┤ U1(pi/4) ├┤ X ├┤ U1(-pi/4) ├┤ X ├┤ U1(pi/4) ├┤ X ├»\n",
       "          └──────────┘└──────────┘└───┘└───────────┘└───┘└──────────┘└───┘»\n",
       " c11_0: 0 ════════════════════════════════════════════════════════════════»\n",
       "                                                                          »\n",
       " c11_1: 0 ════════════════════════════════════════════════════════════════»\n",
       "                                                                          »\n",
       " c11_2: 0 ════════════════════════════════════════════════════════════════»\n",
       "                                                                          »\n",
       "«                                                                  »\n",
       "«q19_0: ───────────────────────────────────────────────────────────»\n",
       "«                                                                  »\n",
       "«q19_1: ────────────────────────────────────────────────────────■──»\n",
       "«                                                               │  »\n",
       "«q19_2: ───────────────────────────■────────────────────────────┼──»\n",
       "«                                ┌─┴─┐                          │  »\n",
       "«q19_3: ─────────────────────────┤ X ├──────────────────────────┼──»\n",
       "«       ┌───────────┐┌──────────┐└─┬─┘┌──────────┐┌──────────┐┌─┴─┐»\n",
       "«q19_4: ┤ U1(-pi/4) ├┤ U2(0,pi) ├──■──┤ U2(0,pi) ├┤ U1(pi/4) ├┤ X ├»\n",
       "«       └───────────┘└──────────┘     └──────────┘└──────────┘└───┘»\n",
       "«c11_0: ═══════════════════════════════════════════════════════════»\n",
       "«                                                                  »\n",
       "«c11_1: ═══════════════════════════════════════════════════════════»\n",
       "«                                                                  »\n",
       "«c11_2: ═══════════════════════════════════════════════════════════»\n",
       "«                                                                  »\n",
       "«                            ┌───┐               ░                  ┌─┐      \n",
       "«q19_0: ───────────────■─────┤ X ├───────────────░──────────────────┤M├──────\n",
       "«                      │     └───┘               ░                  └╥┘┌─┐   \n",
       "«q19_1: ───────────────┼────────────────■────────░───────────────────╫─┤M├───\n",
       "«                      │                │        ░                   ║ └╥┘┌─┐\n",
       "«q19_2: ───────────────┼────────────────┼────────░───────────────────╫──╫─┤M├\n",
       "«                      │                │        ░                   ║  ║ └╥┘\n",
       "«q19_3: ───────────────┼────────────────┼────────────────────────────╫──╫──╫─\n",
       "«       ┌───────────┐┌─┴─┐┌──────────┐┌─┴─┐┌───────────┐┌──────────┐ ║  ║  ║ \n",
       "«q19_4: ┤ U1(-pi/4) ├┤ X ├┤ U1(pi/4) ├┤ X ├┤ U1(-pi/4) ├┤ U2(0,pi) ├─╫──╫──╫─\n",
       "«       └───────────┘└───┘└──────────┘└───┘└───────────┘└──────────┘ ║  ║  ║ \n",
       "«c11_0: ═════════════════════════════════════════════════════════════╩══╬══╬═\n",
       "«                                                                       ║  ║ \n",
       "«c11_1: ════════════════════════════════════════════════════════════════╩══╬═\n",
       "«                                                                          ║ \n",
       "«c11_2: ═══════════════════════════════════════════════════════════════════╩═\n",
       "«                                                                            </pre>"
      ],
      "text/plain": [
       "<qiskit.visualization.text.TextDrawing at 0x1bb96968c88>"
      ]
     },
     "execution_count": 37,
     "metadata": {},
     "output_type": "execute_result"
    }
   ],
   "source": [
    "from qiskit import *\n",
    "import numpy as np\n",
    "import math\n",
    "%matplotlib inline\n",
    "\n",
    "pi = math.pi\n",
    "\n",
    "q = QuantumRegister(5)\n",
    "c = ClassicalRegister(3)\n",
    "cir = QuantumCircuit(q, c)\n",
    "cir.h(q[0])\n",
    "cir.h(q[1])\n",
    "cir.h(q[2])\n",
    "cir.x(q[3])\n",
    "cir.h(q[3])\n",
    "\n",
    "# f' = a'b'c'+a'b'c+a'bc'+ab'c'+ab'c+abc'+abc\n",
    "# f = (a+b+c)(a+b+c')(a+b'+c)(a'+b+c)(a'+b+c')(a'+b'+c)(a'+b'+c')\n",
    "\n",
    "# 1st iteration\n",
    "cir.x(q[0])\n",
    "cir.mct([q[0], q[1], q[2]], q[3], [q[4]])\n",
    "cir.x(q[0])\n",
    "\n",
    "cir.barrier([q[0], q[1], q[2]])\n",
    "cir.measure([q[0], q[1], q[2]], [c[0], c[1], c[2]])\n",
    "cir.draw()\n"
   ]
  },
  {
   "cell_type": "code",
   "execution_count": 38,
   "metadata": {},
   "outputs": [
    {
     "name": "stdout",
     "output_type": "stream",
     "text": [
      "{'001': 2015, '101': 2109, '111': 2051, '100': 1999, '010': 2070, '000': 2012, '011': 2077, '110': 2051}\n"
     ]
    },
    {
     "data": {
      "image/png": "[encoded data removed]",
      "text/plain": [
       "<Figure size 504x360 with 1 Axes>"
      ]
     },
     "execution_count": 38,
     "metadata": {},
     "output_type": "execute_result"
    }
   ],
   "source": [
    "backend = Aer.get_backend('qasm_simulator')\n",
    "job = execute(cir, backend, shots = 16384)\n",
    "result = job.result()\n",
    "\n",
    "counts = result.get_counts(cir)\n",
    "print(counts)\n",
    "visualization.plot_histogram(counts)"
   ]
  }
 ],
 "metadata": {
  "kernelspec": {
   "display_name": "Python 3",
   "language": "python",
   "name": "python3"
  },
  "language_info": {
   "codemirror_mode": {
    "name": "ipython",
    "version": 3
   },
   "file_extension": ".py",
   "mimetype": "text/x-python",
   "name": "python",
   "nbconvert_exporter": "python",
   "pygments_lexer": "ipython3",
   "version": "3.6.9"
  }
 },
 "nbformat": 4,
 "nbformat_minor": 2
}
