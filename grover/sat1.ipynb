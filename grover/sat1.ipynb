{
 "cells": [
  {
   "cell_type": "code",
   "execution_count": 1,
   "metadata": {},
   "outputs": [
    {
     "data": {
      "text/html": [
       "<pre style=\"word-wrap: normal;white-space: pre;background: #fff0;line-height: 1.1;font-family: &quot;Courier New&quot;,Courier,monospace\">        ┌───┐     \n",
       "q_0: |0>┤ H ├─────\n",
       "        ├───┤     \n",
       "q_1: |0>┤ H ├─────\n",
       "        ├───┤     \n",
       "q_2: |0>┤ H ├─────\n",
       "        ├───┤┌───┐\n",
       "q_3: |0>┤ X ├┤ H ├\n",
       "        └───┘└───┘</pre>"
      ],
      "text/plain": [
       "<qiskit.visualization.text.TextDrawing at 0x2959f868fd0>"
      ]
     },
     "execution_count": 1,
     "metadata": {},
     "output_type": "execute_result"
    }
   ],
   "source": [
    "from qiskit import *\n",
    "import numpy as np\n",
    "%matplotlib inline\n",
    "\n",
    "c = QuantumCircuit(4)\n",
    "c.h(0)\n",
    "c.h(1)\n",
    "c.h(2)\n",
    "c.x(3)\n",
    "c.h(3)\n",
    "c.draw()\n",
    "\n",
    "# f' = a'b'c'+a'b'c+a'bc'+ab'c'+ab'c+abc'+abc\n",
    "# f = (a+b+c)(a+b+c')(a+b'+c)(a'+b+c)(a'+b+c')(a'+b'+c)(a'+b'+c')"
   ]
  }
 ],
 "metadata": {
  "kernelspec": {
   "display_name": "Python 3",
   "language": "python",
   "name": "python3"
  },
  "language_info": {
   "codemirror_mode": {
    "name": "ipython",
    "version": 3
   },
   "file_extension": ".py",
   "mimetype": "text/x-python",
   "name": "python",
   "nbconvert_exporter": "python",
   "pygments_lexer": "ipython3",
   "version": "3.6.9"
  }
 },
 "nbformat": 4,
 "nbformat_minor": 2
}
