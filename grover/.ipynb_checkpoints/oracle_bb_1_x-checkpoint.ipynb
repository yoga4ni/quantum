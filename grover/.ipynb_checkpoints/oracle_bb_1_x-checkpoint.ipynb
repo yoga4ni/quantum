{
 "cells": [
  {
   "cell_type": "code",
   "execution_count": 3,
   "metadata": {},
   "outputs": [
    {
     "data": {
      "text/html": [
       "<pre style=\"word-wrap: normal;white-space: pre;background: #fff0;line-height: 1.1;font-family: &quot;Courier New&quot;,Courier,monospace\">        ┌───┐┌───┐┌──────────┐┌───┐     ┌───┐┌──────────┐┌───┐     ┌───┐ ░ ┌─┐»\n",
       "q_0: |0>┤ X ├┤ H ├┤0         ├┤ H ├──■──┤ H ├┤0         ├┤ H ├──■──┤ H ├─░─┤M├»\n",
       "        ├───┤├───┤│          │├───┤  │  ├───┤│          │├───┤  │  ├───┤ ░ └╥┘»\n",
       "q_1: |0>┤ X ├┤ H ├┤1 unitary ├┤ H ├──■──┤ H ├┤1 unitary ├┤ H ├──■──┤ H ├─░──╫─»\n",
       "        ├───┤├───┤│          │└───┘┌─┴─┐└───┘│          │└───┘┌─┴─┐└───┘ ░  ║ »\n",
       "q_2: |0>┤ X ├┤ H ├┤2         ├─────┤ X ├─────┤2         ├─────┤ X ├──────░──╫─»\n",
       "        └───┘└───┘└──────────┘     └───┘     └──────────┘     └───┘      ░  ║ »\n",
       " c_0: 0 ════════════════════════════════════════════════════════════════════╩═»\n",
       "                                                                              »\n",
       " c_1: 0 ══════════════════════════════════════════════════════════════════════»\n",
       "                                                                              »\n",
       " c_2: 0 ══════════════════════════════════════════════════════════════════════»\n",
       "                                                                              »\n",
       "«           \n",
       "«q_0: ──────\n",
       "«     ┌─┐   \n",
       "«q_1: ┤M├───\n",
       "«     └╥┘┌─┐\n",
       "«q_2: ─╫─┤M├\n",
       "«      ║ └╥┘\n",
       "«c_0: ═╬══╬═\n",
       "«      ║  ║ \n",
       "«c_1: ═╩══╬═\n",
       "«         ║ \n",
       "«c_2: ════╩═\n",
       "«           </pre>"
      ],
      "text/plain": [
       "<qiskit.visualization.text.TextDrawing at 0x1aead27ba20>"
      ]
     },
     "execution_count": 3,
     "metadata": {},
     "output_type": "execute_result"
    }
   ],
   "source": [
    "# on-set = { 011 }, n_iteration = 2\n",
    "from qiskit import *\n",
    "from qiskit.quantum_info.operators import *\n",
    "import numpy as np\n",
    "%matplotlib inline\n",
    "\n",
    "cir = QuantumCircuit(3, 3)\n",
    "oracle = Operator([[1, 0, 0, 0, 0, 0, 0, 0], \n",
    "                   [0, 1, 0, 0, 0, 0, 0, 0],\n",
    "                   [0, 0, 1, 0, 0, 0, 0, 0], \n",
    "                   [0, 0, 0, -1, 0, 0, 0, 0],\n",
    "                   [0, 0, 0, 0, 1, 0, 0, 0], \n",
    "                   [0, 0, 0, 0, 0, 1, 0, 0],\n",
    "                   [0, 0, 0, 0, 0, 0, 1, 0], \n",
    "                   [0, 0, 0, 0, 0, 0, 0, 1]])\n",
    "\n",
    "cir.x(0)\n",
    "cir.x(1)\n",
    "cir.x(2)\n",
    "cir.h(0)\n",
    "cir.h(1)\n",
    "cir.h(2)\n",
    "\n",
    "# 1st iteration\n",
    "cir.append(oracle, range(0, 3))\n",
    "cir.h(0)\n",
    "cir.h(1)\n",
    "cir.ccx(0, 1, 2)\n",
    "cir.h(0)\n",
    "cir.h(1)\n",
    "\n",
    "# 2nd iteration\n",
    "cir.append(oracle, range(0, 3))\n",
    "cir.h(0)\n",
    "cir.h(1)\n",
    "cir.ccx(0, 1, 2)\n",
    "cir.h(0)\n",
    "cir.h(1)\n",
    "\n",
    "cir.barrier(range(0, 3))\n",
    "cir.measure(range(0, 3), range(0, 3))\n",
    "cir.draw()"
   ]
  },
  {
   "cell_type": "code",
   "execution_count": 4,
   "metadata": {},
   "outputs": [
    {
     "name": "stdout",
     "output_type": "stream",
     "text": [
      "{'110': 113, '101': 133, '011': 15498, '000': 139, '111': 105, '010': 113, '001': 139, '100': 144}\n"
     ]
    },
    {
     "data": {
      "image/png": "[encoded data removed]",
      "text/plain": [
       "<Figure size 504x360 with 1 Axes>"
      ]
     },
     "execution_count": 4,
     "metadata": {},
     "output_type": "execute_result"
    }
   ],
   "source": [
    "backend = Aer.get_backend('qasm_simulator')\n",
    "job = execute(cir, backend, shots = 16384)\n",
    "result = job.result()\n",
    "\n",
    "counts = result.get_counts(cir)\n",
    "print(counts)\n",
    "visualization.plot_histogram(counts)"
   ]
  }
 ],
 "metadata": {
  "kernelspec": {
   "display_name": "Python 3",
   "language": "python",
   "name": "python3"
  },
  "language_info": {
   "codemirror_mode": {
    "name": "ipython",
    "version": 3
   },
   "file_extension": ".py",
   "mimetype": "text/x-python",
   "name": "python",
   "nbconvert_exporter": "python",
   "pygments_lexer": "ipython3",
   "version": "3.6.9"
  }
 },
 "nbformat": 4,
 "nbformat_minor": 2
}
