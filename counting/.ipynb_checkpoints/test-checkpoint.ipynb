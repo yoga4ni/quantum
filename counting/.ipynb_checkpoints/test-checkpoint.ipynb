{
 "cells": [
  {
   "cell_type": "code",
   "execution_count": 15,
   "metadata": {},
   "outputs": [
    {
     "data": {
      "text/html": [
       "<pre style=\"word-wrap: normal;white-space: pre;background: #fff0;line-height: 1.1;font-family: &quot;Courier New&quot;,Courier,monospace\">        ┌───┐                                                         ┌───┐ ░ »\n",
       "q_0: |0>┤ X ├──────■─────────────────────────■──────────────────■─────┤ H ├─░─»\n",
       "        └───┘      │                         │            ┌───┐ │pi/2 └───┘ ░ »\n",
       "q_1: |0>───────────┼──────■──────────────────┼──────■─────┤ H ├─■───────────░─»\n",
       "        ┌───┐      │      │            ┌───┐ │pi/4  │pi/2 └───┘             ░ »\n",
       "q_2: |0>┤ X ├──────┼──────┼──────■─────┤ H ├─■──────■───────────────────────░─»\n",
       "        ├───┤┌───┐ │pi/8  │pi/4  │pi/2 └───┘                                ░ »\n",
       "q_3: |0>┤ X ├┤ H ├─■──────■──────■──────────────────────────────────────────░─»\n",
       "        └───┘└───┘                                                          ░ »\n",
       "«           \n",
       "«q_0: ─X────\n",
       "«      │    \n",
       "«q_1: ─┼──X─\n",
       "«      │  │ \n",
       "«q_2: ─┼──X─\n",
       "«      │    \n",
       "«q_3: ─X────\n",
       "«           </pre>"
      ],
      "text/plain": [
       "<qiskit.visualization.text.TextDrawing at 0x1e8c4894f98>"
      ]
     },
     "execution_count": 15,
     "metadata": {},
     "output_type": "execute_result"
    }
   ],
   "source": [
    "from qiskit import *\n",
    "import numpy as np\n",
    "import math\n",
    "%matplotlib inline\n",
    "\n",
    "def qft_rotations(circuit, n):\n",
    "    if n == 0:\n",
    "        return circuit\n",
    "    n -= 1\n",
    "    circuit.h(n)\n",
    "    for qubit in range(n):\n",
    "        circuit.cu1(np.pi/2**(n-qubit), qubit, n)\n",
    "    qft_rotations(circuit, n)\n",
    "\n",
    "def swap_registers(circuit, n):\n",
    "    for qubit in range(n//2):\n",
    "        circuit.swap(qubit, n-1-qubit)\n",
    "    return circuit\n",
    "\n",
    "n = 4\n",
    "qc = QuantumCircuit(n)\n",
    "qc.x(0)\n",
    "qc.x(2)\n",
    "qc.x(3)\n",
    "qft_rotations(qc, n)\n",
    "qc.barrier(range(n))\n",
    "swap_registers(qc, n)\n",
    "qc.draw()"
   ]
  },
  {
   "cell_type": "code",
   "execution_count": 16,
   "metadata": {},
   "outputs": [
    {
     "name": "stdout",
     "output_type": "stream",
     "text": [
      "0 (0.25000000000000006+0j)\n",
      "1 (0.09567085809127236-0.23096988312782174j)\n",
      "2 (-0.17677669529663703-0.17677669529663687j)\n",
      "3 (-0.2309698831278217+0.09567085809127256j)\n",
      "4 0.25000000000000006j\n",
      "5 (0.23096988312782174+0.09567085809127235j)\n",
      "6 (0.17677669529663684-0.17677669529663703j)\n",
      "7 (-0.09567085809127258-0.2309698831278217j)\n",
      "8 (-0.25000000000000006+0j)\n",
      "9 (-0.09567085809127236+0.23096988312782174j)\n",
      "10 (0.17677669529663703+0.17677669529663687j)\n",
      "11 (0.2309698831278217-0.09567085809127256j)\n",
      "12 -0.25000000000000006j\n",
      "13 (-0.23096988312782174-0.09567085809127235j)\n",
      "14 (-0.17677669529663684+0.17677669529663703j)\n",
      "15 (0.09567085809127258+0.2309698831278217j)\n"
     ]
    }
   ],
   "source": [
    "backend = Aer.get_backend('statevector_simulator')\n",
    "result = execute(qc, backend).result()\n",
    "vector = result.get_statevector()\n",
    "for i in range(len(vector)):\n",
    "    print(i, vector[i])"
   ]
  },
  {
   "cell_type": "code",
   "execution_count": 17,
   "metadata": {},
   "outputs": [
    {
     "name": "stdout",
     "output_type": "stream",
     "text": [
      "0 (0.25+0j)\n",
      "1 (0.0956708580912726-0.2309698831278216j)\n",
      "2 (-0.17677669529663662-0.17677669529663714j)\n",
      "3 (-0.23096988312782188+0.09567085809127195j)\n",
      "4 (-7.216449660063518e-16+0.25j)\n",
      "5 (0.23096988312782135+0.09567085809127326j)\n",
      "6 (0.17677669529663764-0.17677669529663612j)\n",
      "7 (-0.0956708580912713-0.23096988312782216j)\n",
      "8 (-0.25-4.901682099772354e-16j)\n",
      "9 (-0.09567085809127378+0.23096988312782113j)\n",
      "10 (0.17677669529663645+0.1767766952966373j)\n",
      "11 (0.2309698831278223-0.095670858091271j)\n",
      "12 (7.352523149658532e-16-0.25j)\n",
      "13 (-0.23096988312782035-0.09567085809127564j)\n",
      "14 (-0.17677669529663873+0.17677669529663503j)\n",
      "15 (0.09567085809127077+0.23096988312782238j)\n"
     ]
    }
   ],
   "source": [
    "x = np.array([0, 0, 0, 0, 0, 0, 0, 0, 0, 0, 0, 0, 0, 1, 0, 0])\n",
    "w = complex(math.cos(2*np.pi/16), math.sin(2*np.pi/16))\n",
    "for i in range(16):\n",
    "    coeffi = pow(w, 13*i) / 4\n",
    "    print(i, coeffi)"
   ]
  }
 ],
 "metadata": {
  "kernelspec": {
   "display_name": "Python 3",
   "language": "python",
   "name": "python3"
  },
  "language_info": {
   "codemirror_mode": {
    "name": "ipython",
    "version": 3
   },
   "file_extension": ".py",
   "mimetype": "text/x-python",
   "name": "python",
   "nbconvert_exporter": "python",
   "pygments_lexer": "ipython3",
   "version": "3.6.9"
  }
 },
 "nbformat": 4,
 "nbformat_minor": 2
}
