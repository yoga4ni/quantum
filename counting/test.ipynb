{
 "cells": [
  {
   "cell_type": "code",
   "execution_count": 1,
   "metadata": {},
   "outputs": [
    {
     "data": {
      "text/html": [
       "<pre style=\"word-wrap: normal;white-space: pre;background: #fff0;line-height: 1.1;font-family: &quot;Courier New&quot;,Courier,monospace\">                                                                 ┌───┐\n",
       "q_0: |0>──────■─────────────────────────■──────────────────■─────┤ H ├\n",
       "              │                         │            ┌───┐ │pi/2 └───┘\n",
       "q_1: |0>──────┼──────■──────────────────┼──────■─────┤ H ├─■──────────\n",
       "              │      │            ┌───┐ │pi/4  │pi/2 └───┘            \n",
       "q_2: |0>──────┼──────┼──────■─────┤ H ├─■──────■──────────────────────\n",
       "        ┌───┐ │pi/8  │pi/4  │pi/2 └───┘                               \n",
       "q_3: |0>┤ H ├─■──────■──────■─────────────────────────────────────────\n",
       "        └───┘                                                         \n",
       " c_0: 0 ══════════════════════════════════════════════════════════════\n",
       "                                                                      \n",
       " c_1: 0 ══════════════════════════════════════════════════════════════\n",
       "                                                                      \n",
       " c_2: 0 ══════════════════════════════════════════════════════════════\n",
       "                                                                      \n",
       " c_3: 0 ══════════════════════════════════════════════════════════════\n",
       "                                                                      </pre>"
      ],
      "text/plain": [
       "<qiskit.visualization.text.TextDrawing at 0x276885aff98>"
      ]
     },
     "execution_count": 1,
     "metadata": {},
     "output_type": "execute_result"
    }
   ],
   "source": [
    "from qiskit import *\n",
    "import numpy as np\n",
    "%matplotlib inline\n",
    "\n",
    "def qft_rotations(circuit, n):\n",
    "    if n == 0:\n",
    "        return circuit\n",
    "    n -= 1\n",
    "    circuit.h(n)\n",
    "    for qubit in range(n):\n",
    "        circuit.cu1(np.pi/2**(n-qubit), qubit, n)\n",
    "    qft_rotations(circuit, n)\n",
    "\n",
    "n = 4\n",
    "qc = QuantumCircuit(n, n)\n",
    "qft_rotations(qc, n)\n",
    "qc.draw()"
   ]
  }
 ],
 "metadata": {
  "kernelspec": {
   "display_name": "Python 3",
   "language": "python",
   "name": "python3"
  },
  "language_info": {
   "codemirror_mode": {
    "name": "ipython",
    "version": 3
   },
   "file_extension": ".py",
   "mimetype": "text/x-python",
   "name": "python",
   "nbconvert_exporter": "python",
   "pygments_lexer": "ipython3",
   "version": "3.6.9"
  }
 },
 "nbformat": 4,
 "nbformat_minor": 2
}
