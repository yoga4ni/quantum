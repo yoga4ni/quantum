{
 "cells": [
  {
   "cell_type": "code",
   "execution_count": 3,
   "metadata": {},
   "outputs": [
    {
     "data": {
      "text/html": [
       "<pre style=\"word-wrap: normal;white-space: pre;background: #fff0;line-height: 1.1;font-family: &quot;Courier New&quot;,Courier,monospace\">        ┌───┐           ░ ┌─┐      \n",
       "q_0: |0>┤ H ├──■────■───░─┤M├──────\n",
       "        └───┘┌─┴─┐  │   ░ └╥┘┌─┐   \n",
       "q_1: |0>─────┤ X ├──┼───░──╫─┤M├───\n",
       "             └───┘┌─┴─┐ ░  ║ └╥┘┌─┐\n",
       "q_2: |0>──────────┤ X ├─░──╫──╫─┤M├\n",
       "                  └───┘ ░  ║  ║ └╥┘\n",
       " c_0: 0 ═══════════════════╩══╬══╬═\n",
       "                              ║  ║ \n",
       " c_1: 0 ══════════════════════╩══╬═\n",
       "                                 ║ \n",
       " c_2: 0 ═════════════════════════╩═\n",
       "                                   </pre>"
      ],
      "text/plain": [
       "<qiskit.visualization.text.TextDrawing at 0x194ffc705f8>"
      ]
     },
     "execution_count": 3,
     "metadata": {},
     "output_type": "execute_result"
    }
   ],
   "source": [
    "from qiskit import *\n",
    "import numpy as np\n",
    "%matplotlib inline\n",
    "\n",
    "c = QuantumCircuit(3)\n",
    "c.h(0)\n",
    "c.cx(0, 1)\n",
    "c.cx(0, 2)\n",
    "\n",
    "m = QuantumCircuit(3, 3)\n",
    "m.barrier(range(3))\n",
    "m.measure(range(3), range(3))\n",
    "\n",
    "qc = c + m\n",
    "qc.draw()"
   ]
  },
  {
   "cell_type": "code",
   "execution_count": 4,
   "metadata": {},
   "outputs": [
    {
     "name": "stdout",
     "output_type": "stream",
     "text": [
      "{'111': 522, '000': 502}\n"
     ]
    },
    {
     "data": {
      "image/png": "[encoded data removed]",
      "text/plain": [
       "<Figure size 504x360 with 1 Axes>"
      ]
     },
     "execution_count": 4,
     "metadata": {},
     "output_type": "execute_result"
    }
   ],
   "source": [
    "backend = Aer.get_backend('qasm_simulator')\n",
    "job = execute(qc, backend, shots = 1024)\n",
    "result = job.result()\n",
    "\n",
    "counts = result.get_counts(qc)\n",
    "print(counts)\n",
    "visualization.plot_histogram(counts)"
   ]
  }
 ],
 "metadata": {
  "kernelspec": {
   "display_name": "Python 3",
   "language": "python",
   "name": "python3"
  },
  "language_info": {
   "codemirror_mode": {
    "name": "ipython",
    "version": 3
   },
   "file_extension": ".py",
   "mimetype": "text/x-python",
   "name": "python",
   "nbconvert_exporter": "python",
   "pygments_lexer": "ipython3",
   "version": "3.6.9"
  }
 },
 "nbformat": 4,
 "nbformat_minor": 2
}
